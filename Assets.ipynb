{
  "nbformat": 4,
  "nbformat_minor": 0,
  "metadata": {
    "colab": {
      "provenance": [],
      "authorship_tag": "ABX9TyPElH57z7oR17FYjNAQsyXT",
      "include_colab_link": true
    },
    "kernelspec": {
      "name": "python3",
      "display_name": "Python 3"
    },
    "language_info": {
      "name": "python"
    }
  },
  "cells": [
    {
      "cell_type": "markdown",
      "metadata": {
        "id": "view-in-github",
        "colab_type": "text"
      },
      "source": [
        "<a href=\"https://colab.research.google.com/github/megumi-joy/AiGamesHub/blob/main/Assets.ipynb\" target=\"_parent\"><img src=\"https://colab.research.google.com/assets/colab-badge.svg\" alt=\"Open In Colab\"/></a>"
      ]
    },
    {
      "cell_type": "code",
      "execution_count": null,
      "metadata": {
        "id": "rjU1fabjlDYj"
      },
      "outputs": [],
      "source": [
        "\n",
        "!pip install diffusers transformers accelerate safetensors\n",
        "from diffusers import StableDiffusionPipeline\n",
        "import torch\n",
        "import os\n",
        "from PIL import Image\n",
        "\n",
        "model_id = \"playgroundai/playground-v2.5-1024px-aesthetic\"\n",
        "pipe = StableDiffusionPipeline.from_pretrained(model_id, torch_dtype=torch.float16)\n",
        "pipe = pipe.to(\"cuda\")\n",
        "\n",
        "os.makedirs(\"generated_assets\", exist_ok=True)\n",
        "\n",
        "asset_list_path = \"/content/asset_list.txt\"\n",
        "with open(asset_list_path, \"r\") as f:\n",
        "    prompts = [line.strip() for line in f if line.strip() and not line.startswith(\"#\")]\n",
        "\n",
        "for prompt in prompts:\n",
        "    image = pipe(f\"pixel art of {prompt}\").images[0]\n",
        "    image.save(f\"generated_assets/{prompt}.png\")\n",
        "\n",
        "print(\"✅ Генерация завершена\")"
      ]
    },
    {
      "cell_type": "markdown",
      "source": [
        "# environments / backgrounds\n",
        "background_forest_day\n",
        "background_forest_night\n",
        "background_city_day\n",
        "background_city_night\n",
        "background_room_interior\n",
        "\n",
        "# tiles\n",
        "grass_tile\n",
        "dirt_tile\n",
        "stone_tile\n",
        "wood_floor_tile\n",
        "\n",
        "# platforms & obstacles\n",
        "wooden_platform\n",
        "stone_platform\n",
        "spike_obstacle\n",
        "spring_platform\n",
        "\n",
        "# player sprites (sprite sheet)\n",
        "player_idle\n",
        "player_run\n",
        "player_jump\n",
        "player_fall\n",
        "\n",
        "# enemies (sprite sheet)\n",
        "enemy_idle\n",
        "enemy_walk\n",
        "enemy_attack\n",
        "\n",
        "# items\n",
        "coin\n",
        "health_potion\n",
        "key\n",
        "dust_item\n",
        "\n",
        "# UI\n",
        "heart_icon\n",
        "dust_icon\n",
        "inventory_box\n",
        "progress_bar\n",
        "\n",
        "# others\n",
        "tree\n",
        "flower\n",
        "rock\n",
        "bush\n",
        "fence\n",
        "cloud\n"
      ],
      "metadata": {
        "id": "RwY3iu21mzSC"
      }
    },
    {
      "cell_type": "code",
      "source": [],
      "metadata": {
        "id": "3kCuUY2Llz48"
      },
      "execution_count": null,
      "outputs": []
    }
  ]
}